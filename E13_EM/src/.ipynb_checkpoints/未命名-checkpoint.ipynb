{
 "cells": [
  {
   "cell_type": "code",
   "execution_count": 1,
   "metadata": {},
   "outputs": [],
   "source": [
    "# coding: utf-8\n",
    "import numpy as np\n",
    "import matplotlib.pyplot as plt"
   ]
  },
  {
   "cell_type": "code",
   "execution_count": 2,
   "metadata": {},
   "outputs": [],
   "source": [
    "def loadData(filename):\n",
    "    \"\"\"\n",
    "    从文件中读取数据。\n",
    "    Params:\n",
    "        filename: 数据文件名。\n",
    "    Return:\n",
    "        dataSet: 列表的列表表示的矩阵。\n",
    "        id2country: 国家名构成的列表。\n",
    "    \"\"\"\n",
    "    dataSet = []\n",
    "    id2country = []  # 将索引对应到国家名\n",
    "    with open(filename) as fr:\n",
    "        for i, line in enumerate(fr.readlines()):\n",
    "            curLine = line.strip().split(' ')\n",
    "            fltLine = list(map(int, curLine[1:]))  # 去掉第一列国家名\n",
    "            dataSet.append(fltLine)\n",
    "            id2country.append(curLine[0])\n",
    "    return dataSet, id2country"
   ]
  },
  {
   "cell_type": "code",
   "execution_count": 3,
   "metadata": {},
   "outputs": [],
   "source": [
    "# 高斯分布的概率密度函数\n",
    "def prob(x, mu, sigma):\n",
    "    n = np.shape(x)[1]\n",
    "    expOn = float(-0.5 * (x - mu) * (sigma.I) * ((x - mu).T))\n",
    "    divBy = pow(2 * np.pi, n / 2) * pow(np.linalg.det(sigma), 0.5)\n",
    "    return pow(np.e, expOn) / divBy"
   ]
  },
  {
   "cell_type": "code",
   "execution_count": 4,
   "metadata": {},
   "outputs": [],
   "source": [
    "def EM(dataMat, maxIter=50):\n",
    "    m, n = np.shape(dataMat)\n",
    "    # 1.初始化各高斯混合成分参数\n",
    "    alpha = [1 / 3, 1 / 3, 1 / 3]                                  # 初始化 alpha\n",
    "    mu = [dataMat[1, :], dataMat[13, :], dataMat[11, :]]           # 初始化mu\n",
    "    sigma = [np.mat((np.eye(7, dtype=float))) for x in range(3)]  # 初始化协方差矩阵\n",
    "    gamma = np.mat(np.zeros((m, 3)))\n",
    "    \n",
    "    for i in range(maxIter):\n",
    "        for j in range(m):\n",
    "            sumAlphaMulP = 0\n",
    "            for k in range(3):\n",
    "                gamma[j, k] = alpha[k] * prob(dataMat[j, :], mu[k], sigma[k]) # 4.计算混合成分生成的后验概率，即gamma\n",
    "                sumAlphaMulP += gamma[j, k]\n",
    "            for k in range(3):\n",
    "                gamma[j, k] /= sumAlphaMulP\n",
    "        sumGamma = np.sum(gamma, axis=0)\n",
    "\n",
    "        for k in range(3):\n",
    "            mu[k] = np.mat(np.zeros((1, n)))\n",
    "            sigma[k] = np.mat(np.zeros((n, n)))\n",
    "            for j in range(m):\n",
    "                mu[k] += gamma[j, k] * dataMat[j, :]\n",
    "            mu[k] /= sumGamma[0, k] #  7.计算新均值向量\n",
    "            for j in range(m):\n",
    "                sigma[k] += gamma[j, k] * (dataMat[j, :] - mu[k]).T *(dataMat[j, :] - mu[k])\n",
    "            sigma[k] /= sumGamma[0, k]  # 8. 计算新的协方差矩阵\n",
    "            alpha[k] = sumGamma[0, k] / m   # 9. 计算新混合系数\n",
    "        \n",
    "        for s in sigma:\n",
    "            s += np.eye(7)\n",
    "            \n",
    "    print('gamma')\n",
    "    print(gamma)\n",
    "    print('\\nmu')\n",
    "    [print(m) for m in mu]\n",
    "    print('\\nsigma')\n",
    "    print(sigma)\n",
    "    \n",
    "    return gamma"
   ]
  },
  {
   "cell_type": "code",
   "execution_count": 5,
   "metadata": {},
   "outputs": [],
   "source": [
    "# init centroids with random samples\n",
    "def initCentroids(dataMat, k):\n",
    "    numSamples, dim = dataMat.shape\n",
    "    centroids = np.zeros((k, dim))\n",
    "    for i in range(k):\n",
    "        index = int(np.random.uniform(0, numSamples))\n",
    "        centroids[i, :] = dataMat[index, :]\n",
    "    return centroids"
   ]
  },
  {
   "cell_type": "code",
   "execution_count": 6,
   "metadata": {},
   "outputs": [],
   "source": [
    "def gaussianCluster(dataMat):\n",
    "    m, n = np.shape(dataMat)\n",
    "    centroids = initCentroids(dataMat, m)  ## step 1: init centroids\n",
    "    clusterAssign = np.mat(np.zeros((m, 2)))\n",
    "    gamma = EM(dataMat)\n",
    "    for i in range(m):\n",
    "        # amx返回矩阵最大值，argmax返回矩阵最大值所在下标\n",
    "        clusterAssign[i, :] = np.argmax(gamma[i, :]), np.amax(gamma[i, :])  # 15.确定x的簇标记lambda\n",
    "        ## step 4: update centroids\n",
    "    for j in range(m):\n",
    "        pointsInCluster = dataMat[np.nonzero(clusterAssign[:, 0].A == j)[0]]\n",
    "        centroids[j, :] = np.mean(pointsInCluster, axis=0)  # 计算出均值向量\n",
    "    return centroids, clusterAssign"
   ]
  },
  {
   "cell_type": "code",
   "execution_count": 7,
   "metadata": {},
   "outputs": [
    {
     "name": "stdout",
     "output_type": "stream",
     "text": [
      "gamma\n",
      "[[1.94167338e-114 1.25382308e-012 1.00000000e+000]\n",
      " [1.00000000e+000 1.30157637e-090 6.99254748e-192]\n",
      " [1.00000000e+000 1.77308433e-091 3.22118568e-308]\n",
      " [1.00000000e+000 2.86831156e-033 3.89329040e-153]\n",
      " [4.68941135e-103 1.00000000e+000 9.29410695e-122]\n",
      " [1.73360486e-117 2.63382865e-004 9.99736617e-001]\n",
      " [8.07501018e-070 1.52126772e-004 9.99847873e-001]\n",
      " [1.73742960e-121 9.99999999e-001 9.91726551e-010]\n",
      " [6.80507222e-064 1.00000000e+000 3.09330574e-023]\n",
      " [2.99372863e-167 4.28991995e-061 1.00000000e+000]\n",
      " [3.25570891e-236 7.31233936e-046 1.00000000e+000]\n",
      " [1.25721563e-166 9.78317131e-042 1.00000000e+000]\n",
      " [5.72371065e-127 1.00000000e+000 6.74033915e-028]\n",
      " [1.13539296e-097 1.00000000e+000 3.40151214e-035]\n",
      " [6.94426982e-210 5.86062654e-050 1.00000000e+000]\n",
      " [1.00000000e+000 2.57084628e-074 2.29152462e-282]]\n",
      "\n",
      "mu\n",
      "[[21.5  21.25 28.5  20.5   5.25  2.75  3.25]]\n",
      "[[39.60086419 38.40065967 47.99933524 41.19990029  8.39962848  7.99975071\n",
      "   7.79983635]]\n",
      "[[50.         48.5715611  45.71462493 44.28596869  7.28591355 12.4290124\n",
      "  11.14317249]]\n",
      "\n",
      "sigma\n",
      "[matrix([[ 2.725000e+01,  3.875000e+00,  0.000000e+00, -2.250000e+01,\n",
      "         -4.875000e+00, -1.250000e-01,  8.875000e+00],\n",
      "        [ 3.875000e+00,  1.361875e+02, -1.625000e+00,  6.875000e+00,\n",
      "          5.937500e+00,  1.556250e+01,  4.937500e+00],\n",
      "        [ 0.000000e+00, -1.625000e+00,  2.250000e+00,  3.750000e+00,\n",
      "          2.125000e+00, -8.750000e-01, -3.750000e-01],\n",
      "        [-2.250000e+01,  6.875000e+00,  3.750000e+00,  3.325000e+01,\n",
      "          1.162500e+01, -8.750000e-01, -8.375000e+00],\n",
      "        [-4.875000e+00,  5.937500e+00,  2.125000e+00,  1.162500e+01,\n",
      "          6.187500e+00, -4.375000e-01, -2.062500e+00],\n",
      "        [-1.250000e-01,  1.556250e+01, -8.750000e-01, -8.750000e-01,\n",
      "         -4.375000e-01,  3.187500e+00,  5.625000e-01],\n",
      "        [ 8.875000e+00,  4.937500e+00, -3.750000e-01, -8.375000e+00,\n",
      "         -2.062500e+00,  5.625000e-01,  4.187500e+00]]), matrix([[ 49.64494506,  -0.63308678,  -0.80684646,  34.07613119,\n",
      "          16.55476046,  -0.40255911, -12.48066475],\n",
      "        [ -0.63308678,  11.24631413,  -3.20501105, -14.07962157,\n",
      "         -13.76334855,  -1.60184591,  -1.92210373],\n",
      "        [ -0.80684646,  -3.20501105,  17.00398812,   2.40059822,\n",
      "           6.80240687,   8.00132936,  -2.3984915 ],\n",
      "        [ 34.07613119, -14.07962157,   2.40059822,  78.75365819,\n",
      "          36.31742778,   1.2001994 ,   1.4400767 ],\n",
      "        [ 16.55476046, -13.76334855,   6.80240687,  36.31742778,\n",
      "          26.44078121,   3.40083195,  -0.71843719],\n",
      "        [ -0.40255911,  -1.60184591,   8.00132936,   1.2001994 ,\n",
      "           3.40083195,   5.00041541,  -1.19940939],\n",
      "        [-12.48066475,  -1.92210373,  -2.3984915 ,   1.4400767 ,\n",
      "          -0.71843719,  -1.19940939,   6.76032574]]), matrix([[ 1.00000000e+00,  3.78808699e-22,  2.52540627e-22,\n",
      "          1.89403069e-22,  1.01019058e-22,  3.72504158e-22,\n",
      "          9.47146495e-23],\n",
      "        [ 3.78808699e-22,  1.32439513e+01,  8.16299251e+00,\n",
      "          6.12224439e+00, -2.44846776e+00,  1.06118903e+01,\n",
      "          3.06139095e+00],\n",
      "        [ 2.52540627e-22,  8.16299251e+00,  2.54893112e+01,\n",
      "          4.08042109e+00,  4.08073623e+00,  1.46922298e+01,\n",
      "          1.63256977e+01],\n",
      "        [ 1.89403069e-22,  6.12224439e+00,  4.08042109e+00,\n",
      "          2.54901593e+01,  1.63189594e+00,  1.95911097e+01,\n",
      "          1.36729295e+01],\n",
      "        [ 1.01019058e-22, -2.44846776e+00,  4.08073623e+00,\n",
      "          1.63189594e+00,  9.48874928e+00,  5.87641959e+00,\n",
      "          4.81500277e+00],\n",
      "        [ 3.72504158e-22,  1.06118903e+01,  1.46922298e+01,\n",
      "          1.95911097e+01,  5.87641959e+00,  3.03862236e+01,\n",
      "          2.29377945e+01],\n",
      "        [ 9.47146495e-23,  3.06139095e+00,  1.63256977e+01,\n",
      "          1.36729295e+01,  4.81500277e+00,  2.29377945e+01,\n",
      "          2.96935612e+01]])]\n"
     ]
    },
    {
     "name": "stderr",
     "output_type": "stream",
     "text": [
      "C:\\Users\\jedz\\Anaconda3\\lib\\site-packages\\numpy\\matrixlib\\defmatrix.py:447: RuntimeWarning: Mean of empty slice.\n",
      "  return N.ndarray.mean(self, axis, dtype, out, keepdims=True)._collapse(axis)\n",
      "C:\\Users\\jedz\\Anaconda3\\lib\\site-packages\\numpy\\core\\_methods.py:78: RuntimeWarning: invalid value encountered in true_divide\n",
      "  ret, rcount, out=ret, casting='unsafe', subok=False)\n"
     ]
    }
   ],
   "source": [
    "dataMat, id2country = loadData('football.txt')\n",
    "dataMat = np.mat(dataMat)\n",
    "centroids, clusterAssign = gaussianCluster(dataMat)"
   ]
  },
  {
   "cell_type": "code",
   "execution_count": 8,
   "metadata": {},
   "outputs": [
    {
     "name": "stdout",
     "output_type": "stream",
     "text": [
      "First-class: ['Japan', 'South_Korea', 'Iran', 'Australia']\n",
      "Second-class: ['Saudi_Arabia', 'United_Arab_Emirates', 'Uzbekistan', 'Bahrain', 'North_Korea']\n",
      "Third-class: ['China', 'Iraq', 'Qatar', 'Thailand', 'Vietnam', 'Oman', 'Indonesia']\n"
     ]
    }
   ],
   "source": [
    "result = ([], [], [])\n",
    "for i, assign in enumerate(clusterAssign):\n",
    "    result[int(assign[0, 0])].append(id2country[i])\n",
    "print('First-class:', result[0])\n",
    "print('Second-class:', result[1])\n",
    "print('Third-class:', result[2])"
   ]
  }
 ],
 "metadata": {
  "kernelspec": {
   "display_name": "Python 3",
   "language": "python",
   "name": "python3"
  },
  "language_info": {
   "codemirror_mode": {
    "name": "ipython",
    "version": 3
   },
   "file_extension": ".py",
   "mimetype": "text/x-python",
   "name": "python",
   "nbconvert_exporter": "python",
   "pygments_lexer": "ipython3",
   "version": "3.7.3"
  }
 },
 "nbformat": 4,
 "nbformat_minor": 2
}
