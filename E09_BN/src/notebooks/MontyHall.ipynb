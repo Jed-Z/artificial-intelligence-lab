{
 "cells": [
  {
   "cell_type": "code",
   "execution_count": 1,
   "metadata": {},
   "outputs": [],
   "source": [
    "from pomegranate import *"
   ]
  },
  {
   "cell_type": "code",
   "execution_count": 2,
   "metadata": {},
   "outputs": [],
   "source": [
    "guest = DiscreteDistribution({'A':1/3, 'B':1/3, 'C':1/3})\n",
    "prize = DiscreteDistribution({'A':1/3, 'B':1/3, 'C':1/3})\n",
    "monty = ConditionalProbabilityTable([\n",
    "    ['A', 'A', 'A', 0.0],\n",
    "    ['A', 'A', 'B', 0.5],\n",
    "    ['A', 'A', 'C', 0.5],\n",
    "    ['A', 'B', 'A', 0.0],\n",
    "    ['A', 'B', 'B', 0.0],\n",
    "    ['A', 'B', 'C', 1.0],\n",
    "    ['A', 'C', 'A', 0.0],\n",
    "    ['A', 'C', 'B', 1.0],\n",
    "    ['A', 'C', 'C', 0.0],\n",
    "    ['B', 'A', 'A', 0.0],\n",
    "    ['B', 'A', 'B', 0.0],\n",
    "    ['B', 'A', 'C', 1.0],\n",
    "    ['B', 'B', 'A', 0.5],\n",
    "    ['B', 'B', 'B', 0.0],\n",
    "    ['B', 'B', 'C', 0.5],\n",
    "    ['B', 'C', 'A', 1.0],\n",
    "    ['B', 'C', 'B', 0.0],\n",
    "    ['B', 'C', 'C', 0.0],\n",
    "    ['C', 'A', 'A', 0.0],\n",
    "    ['C', 'A', 'B', 1.0],\n",
    "    ['C', 'A', 'C', 0.0],\n",
    "    ['C', 'B', 'A', 1.0],\n",
    "    ['C', 'B', 'B', 0.0],\n",
    "    ['C', 'B', 'C', 0.0],\n",
    "    ['C', 'C', 'A', 0.5],\n",
    "    ['C', 'C', 'B', 0.5],\n",
    "    ['C', 'C', 'C', 0.0],\n",
    "], [guest, prize])"
   ]
  },
  {
   "cell_type": "code",
   "execution_count": 3,
   "metadata": {},
   "outputs": [],
   "source": [
    "s1 = State(guest, name='guest')\n",
    "s2 = State(prize, name='prize')\n",
    "s3 = State(monty, name='monty')"
   ]
  },
  {
   "cell_type": "code",
   "execution_count": 4,
   "metadata": {},
   "outputs": [],
   "source": [
    "model = BayesianNetwork('Monty Hall Problem')\n",
    "model.add_states(s1, s2, s3)"
   ]
  },
  {
   "cell_type": "code",
   "execution_count": 5,
   "metadata": {},
   "outputs": [],
   "source": [
    "model.add_transition(s1, s3)\n",
    "model.add_transition(s2, s3)\n",
    "model.bake()"
   ]
  },
  {
   "cell_type": "code",
   "execution_count": 6,
   "metadata": {},
   "outputs": [
    {
     "data": {
      "text/plain": [
       "0.11111111111111109"
      ]
     },
     "execution_count": 6,
     "metadata": {},
     "output_type": "execute_result"
    }
   ],
   "source": [
    "model.probability(['A', 'B', 'C'])"
   ]
  },
  {
   "cell_type": "code",
   "execution_count": 7,
   "metadata": {},
   "outputs": [
    {
     "data": {
      "text/plain": [
       "array(['A',\n",
       "       {\n",
       "    \"class\" :\"Distribution\",\n",
       "    \"dtype\" :\"str\",\n",
       "    \"name\" :\"DiscreteDistribution\",\n",
       "    \"parameters\" :[\n",
       "        {\n",
       "            \"A\" :0.3333333333333334,\n",
       "            \"B\" :0.6666666666666664,\n",
       "            \"C\" :0.0\n",
       "        }\n",
       "    ],\n",
       "    \"frozen\" :false\n",
       "},\n",
       "       'C'], dtype=object)"
      ]
     },
     "execution_count": 7,
     "metadata": {},
     "output_type": "execute_result"
    }
   ],
   "source": [
    "pred = model.predict_proba({'guest': 'A', 'monty': 'C'})\n",
    "pred"
   ]
  },
  {
   "cell_type": "code",
   "execution_count": null,
   "metadata": {},
   "outputs": [],
   "source": []
  }
 ],
 "metadata": {
  "kernelspec": {
   "display_name": "Python 3",
   "language": "python",
   "name": "python3"
  },
  "language_info": {
   "codemirror_mode": {
    "name": "ipython",
    "version": 3
   },
   "file_extension": ".py",
   "mimetype": "text/x-python",
   "name": "python",
   "nbconvert_exporter": "python",
   "pygments_lexer": "ipython3",
   "version": "3.7.4"
  }
 },
 "nbformat": 4,
 "nbformat_minor": 2
}
