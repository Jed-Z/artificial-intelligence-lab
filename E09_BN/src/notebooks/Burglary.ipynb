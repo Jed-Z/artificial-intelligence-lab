{
 "cells": [
  {
   "cell_type": "code",
   "execution_count": 1,
   "metadata": {},
   "outputs": [],
   "source": [
    "from pomegranate import *"
   ]
  },
  {
   "cell_type": "code",
   "execution_count": 2,
   "metadata": {},
   "outputs": [],
   "source": [
    "burglary = DiscreteDistribution({'T': 0.001, 'F': 0.999})\n",
    "earthquake = DiscreteDistribution({'T': 0.002, 'F': 0.998})\n",
    "alarm = ConditionalProbabilityTable([\n",
    "    ['T', 'T', 'T', 0.95],\n",
    "    ['T', 'T', 'F', 0.05],\n",
    "    ['T', 'F', 'T', 0.94],\n",
    "    ['T', 'F', 'F', 0.06],\n",
    "    ['F', 'T', 'T', 0.29],\n",
    "    ['F', 'T', 'F', 0.71],\n",
    "    ['F', 'F', 'T', 0.001],\n",
    "    ['F', 'F', 'F', 0.999],\n",
    "], [burglary, earthquake])\n",
    "johncalls = ConditionalProbabilityTable([\n",
    "    ['T', 'T', 0.90],\n",
    "    ['T', 'F', 0.10],\n",
    "    ['F', 'T', 0.05],\n",
    "    ['F', 'F', 0.95],\n",
    "], [alarm])\n",
    "marycalls = ConditionalProbabilityTable([\n",
    "    ['T', 'T', 0.70],\n",
    "    ['T', 'F', 0.30],\n",
    "    ['F', 'T', 0.01],\n",
    "    ['F', 'F', 0.99],\n",
    "], [alarm])"
   ]
  },
  {
   "cell_type": "code",
   "execution_count": 3,
   "metadata": {},
   "outputs": [],
   "source": [
    "sB = State(burglary, name='burglary')      # 0\n",
    "sE = State(earthquake, name='earthquake')  # 1\n",
    "sA = State(alarm, name='alarm')            # 2\n",
    "sJ = State(johncalls, name='johncalls')    # 3\n",
    "sM = State(marycalls, name='marycalls')    # 4"
   ]
  },
  {
   "cell_type": "code",
   "execution_count": 4,
   "metadata": {},
   "outputs": [],
   "source": [
    "model = BayesianNetwork('Burglary Problem')\n",
    "model.add_states(sB, sE, sA, sJ, sM)"
   ]
  },
  {
   "cell_type": "code",
   "execution_count": 5,
   "metadata": {},
   "outputs": [],
   "source": [
    "model.add_transition(sB, sA)\n",
    "model.add_transition(sE, sA)\n",
    "model.add_transition(sA, sJ)\n",
    "model.add_transition(sA, sM)\n",
    "model.bake()"
   ]
  },
  {
   "cell_type": "code",
   "execution_count": 6,
   "metadata": {},
   "outputs": [
    {
     "name": "stdout",
     "output_type": "stream",
     "text": [
      "P(A) = 0.002516442000000935\n"
     ]
    }
   ],
   "source": [
    "result1 = model.predict_proba({})[2].parameters[0]['T']\n",
    "print('P(A) =', result1)"
   ]
  },
  {
   "cell_type": "code",
   "execution_count": 7,
   "metadata": {},
   "outputs": [
    {
     "name": "stdout",
     "output_type": "stream",
     "text": [
      "P(J&&~M) = 0.050054875461000355\n"
     ]
    }
   ],
   "source": [
    "result2 = model.predict_proba({'marycalls': 'F'})[3].parameters[0]['T'] * model.predict_proba({})[4].parameters[0]['F']\n",
    "print('P(J&&~M) =', result2)"
   ]
  },
  {
   "cell_type": "code",
   "execution_count": 8,
   "metadata": {},
   "outputs": [
    {
     "name": "stdout",
     "output_type": "stream",
     "text": [
      "P(A|J&&~M) = 0.01357388933131146\n"
     ]
    }
   ],
   "source": [
    "result3 = model.predict_proba({'johncalls': 'T', 'marycalls': 'F'})[2].parameters[0]['T']\n",
    "print('P(A|J&&~M) =', result3)"
   ]
  },
  {
   "cell_type": "code",
   "execution_count": 9,
   "metadata": {},
   "outputs": [
    {
     "name": "stdout",
     "output_type": "stream",
     "text": [
      "P(B|A) = 0.3735512282818995\n"
     ]
    }
   ],
   "source": [
    "result4 = model.predict_proba({'alarm': 'T'})[0].parameters[0]['T']\n",
    "print('P(B|A) =', result4)"
   ]
  },
  {
   "cell_type": "code",
   "execution_count": 10,
   "metadata": {},
   "outputs": [
    {
     "name": "stdout",
     "output_type": "stream",
     "text": [
      "P(A|J&&~M) = 0.005129858133403528\n"
     ]
    }
   ],
   "source": [
    "result5 = model.predict_proba({'johncalls': 'T', 'marycalls': 'F'})[0].parameters[0]['T']\n",
    "print('P(A|J&&~M) =', result5)"
   ]
  },
  {
   "cell_type": "code",
   "execution_count": 11,
   "metadata": {},
   "outputs": [
    {
     "name": "stdout",
     "output_type": "stream",
     "text": [
      "P(J&&~M|~B) = 0.049847949000000266\n"
     ]
    }
   ],
   "source": [
    "result6 = (result2 * (1-result5)) / model.predict_proba({})[0].parameters[0]['F']\n",
    "print('P(J&&~M|~B) =', result6)"
   ]
  }
 ],
 "metadata": {
  "kernelspec": {
   "display_name": "Python 3",
   "language": "python",
   "name": "python3"
  },
  "language_info": {
   "codemirror_mode": {
    "name": "ipython",
    "version": 3
   },
   "file_extension": ".py",
   "mimetype": "text/x-python",
   "name": "python",
   "nbconvert_exporter": "python",
   "pygments_lexer": "ipython3",
   "version": "3.7.4"
  }
 },
 "nbformat": 4,
 "nbformat_minor": 2
}
