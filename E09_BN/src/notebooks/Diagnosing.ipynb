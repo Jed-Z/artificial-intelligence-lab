{
 "cells": [
  {
   "cell_type": "code",
   "execution_count": 1,
   "metadata": {},
   "outputs": [],
   "source": [
    "from pomegranate import *"
   ]
  },
  {
   "cell_type": "code",
   "execution_count": 2,
   "metadata": {},
   "outputs": [],
   "source": [
    "PatientAge = DiscreteDistribution({\n",
    "    '0-30': 0.10,\n",
    "    '31-65': 0.30,\n",
    "    '65+': 0.60\n",
    "})\n",
    "CTScanResult = DiscreteDistribution({\n",
    "    'Ischemic Stroke': 0.7,\n",
    "    'Hemmorraghic Stroke': 0.3\n",
    "})\n",
    "MRIScanResult = DiscreteDistribution({\n",
    "    'Ischemic Stroke': 0.7,\n",
    "    'Hemmorraghic Stroke': 0.3\n",
    "})\n",
    "Anticoagulants = DiscreteDistribution({\n",
    "    'Used': 0.5,\n",
    "    'Not used': 0.5\n",
    "})\n",
    "\n",
    "StrokeType = ConditionalProbabilityTable([\n",
    "    ['Ischemic Stroke','Ischemic Stroke','Ischemic Stroke',0.8],\n",
    "    ['Ischemic Stroke','Hemmorraghic Stroke','Ischemic Stroke',0.5],  \n",
    "    ['Hemmorraghic Stroke','Ischemic Stroke','Ischemic Stroke',0.5],\n",
    "    ['Hemmorraghic Stroke','Hemmorraghic Stroke','Ischemic Stroke',0], \n",
    "\n",
    "    ['Ischemic Stroke','Ischemic Stroke','Hemmorraghic Stroke',0],\n",
    "    ['Ischemic Stroke','Hemmorraghic Stroke','Hemmorraghic Stroke',0.4], \n",
    "    ['Hemmorraghic Stroke','Ischemic Stroke','Hemmorraghic Stroke',0.4],\n",
    "    ['Hemmorraghic Stroke','Hemmorraghic Stroke','Hemmorraghic Stroke',0.9],\n",
    "\n",
    "    ['Ischemic Stroke','Ischemic Stroke','Stroke Mimic',0.2],\n",
    "    ['Ischemic Stroke','Hemmorraghic Stroke','Stroke Mimic',0.1],    \n",
    "    ['Hemmorraghic Stroke','Ischemic Stroke','Stroke Mimic',0.1],\n",
    "    ['Hemmorraghic Stroke','Hemmorraghic Stroke','Stroke Mimic',0.1]\n",
    "], [CTScanResult, MRIScanResult])\n",
    "\n",
    "Mortality = ConditionalProbabilityTable([\n",
    "    ['Ischemic Stroke', 'Used', 'False',0.28],\n",
    "    ['Hemmorraghic Stroke', 'Used', 'False',0.99],\n",
    "    ['Stroke Mimic', 'Used', 'False',0.1],\n",
    "    ['Ischemic Stroke','Not used', 'False',0.56],\n",
    "    ['Hemmorraghic Stroke', 'Not used', 'False',0.58],\n",
    "    ['Stroke Mimic', 'Not used', 'False',0.05],\n",
    "\n",
    "    ['Ischemic Stroke',  'Used' ,'True',0.72],\n",
    "    ['Hemmorraghic Stroke', 'Used', 'True',0.01],\n",
    "    ['Stroke Mimic', 'Used', 'True',0.9],\n",
    "    ['Ischemic Stroke',  'Not used' ,'True',0.44],\n",
    "    ['Hemmorraghic Stroke', 'Not used', 'True',0.42 ],\n",
    "    ['Stroke Mimic', 'Not used', 'True',0.95]\n",
    "], [StrokeType, Anticoagulants])\n",
    "\n",
    "Disability = ConditionalProbabilityTable([\n",
    "    ['Ischemic Stroke',   '0-30','Negligible', 0.80],\n",
    "    ['Hemmorraghic Stroke', '0-30','Negligible', 0.70],\n",
    "    ['Stroke Mimic',        '0-30', 'Negligible',0.9],\n",
    "    ['Ischemic Stroke',     '31-65','Negligible', 0.60],\n",
    "    ['Hemmorraghic Stroke', '31-65','Negligible', 0.50],\n",
    "    ['Stroke Mimic',        '31-65', 'Negligible',0.4],\n",
    "    ['Ischemic Stroke',     '65+'  , 'Negligible',0.30],\n",
    "    ['Hemmorraghic Stroke', '65+'  , 'Negligible',0.20],\n",
    "    ['Stroke Mimic',        '65+'  , 'Negligible',0.1],\n",
    "\n",
    "    ['Ischemic Stroke',     '0-30' ,'Moderate',0.1],\n",
    "    ['Hemmorraghic Stroke', '0-30' ,'Moderate',0.2],\n",
    "    ['Stroke Mimic',        '0-30' ,'Moderate',0.05],\n",
    "    ['Ischemic Stroke',     '31-65','Moderate',0.3],\n",
    "    ['Hemmorraghic Stroke', '31-65','Moderate',0.4],\n",
    "    ['Stroke Mimic',        '31-65','Moderate',0.3],\n",
    "    ['Ischemic Stroke',     '65+'  ,'Moderate',0.4],\n",
    "    ['Hemmorraghic Stroke', '65+'  ,'Moderate',0.2],\n",
    "    ['Stroke Mimic',        '65+'  ,'Moderate',0.1],\n",
    "\n",
    "    ['Ischemic Stroke',     '0-30' ,'Severe',0.1],\n",
    "    ['Hemmorraghic Stroke', '0-30' ,'Severe',0.1],\n",
    "    ['Stroke Mimic',        '0-30' ,'Severe',0.05],\n",
    "    ['Ischemic Stroke',     '31-65','Severe',0.1],\n",
    "    ['Hemmorraghic Stroke', '31-65','Severe',0.1],\n",
    "    ['Stroke Mimic',        '31-65','Severe',0.3],\n",
    "    ['Ischemic Stroke',     '65+'  ,'Severe',0.3],\n",
    "    ['Hemmorraghic Stroke', '65+'  ,'Severe',0.6],\n",
    "    ['Stroke Mimic',        '65+'  ,'Severe',0.8]\n",
    "], [StrokeType, PatientAge])"
   ]
  },
  {
   "cell_type": "code",
   "execution_count": 3,
   "metadata": {},
   "outputs": [],
   "source": [
    "sPA = State(PatientAge, name='PatientAge')         # 0\n",
    "sCT = State(CTScanResult, name='CTScanResult')     # 1\n",
    "sMR = State(MRIScanResult, name='MRIScanResult')   # 2\n",
    "sAN = State(Anticoagulants, name='Anticoagulants') # 3\n",
    "sDI = State(Disability, name='Disability')         # 4\n",
    "sST = State(StrokeType, name='StrokeType')         # 5\n",
    "sMO = State(Mortality, name='Mortality')           # 6"
   ]
  },
  {
   "cell_type": "code",
   "execution_count": 4,
   "metadata": {},
   "outputs": [],
   "source": [
    "model = BayesianNetwork('Diagnosing')\n",
    "model.add_states(sPA, sCT, sMR, sAN, sDI, sST, sMO)"
   ]
  },
  {
   "cell_type": "code",
   "execution_count": 5,
   "metadata": {},
   "outputs": [],
   "source": [
    "model.add_transition(sPA, sDI)\n",
    "model.add_transition(sCT, sST)\n",
    "model.add_transition(sMR, sST)\n",
    "model.add_transition(sAN, sMO)\n",
    "model.add_transition(sST, sDI)\n",
    "model.add_transition(sST, sMO)\n",
    "model.bake()"
   ]
  },
  {
   "cell_type": "code",
   "execution_count": 9,
   "metadata": {},
   "outputs": [
    {
     "name": "stdout",
     "output_type": "stream",
     "text": [
      "p1 = 0.59485\n"
     ]
    }
   ],
   "source": [
    "result1 = model.predict_proba({'PatientAge': '31-65', 'CTScanResult': 'Ischemic Stroke'})[6].parameters[0]['True']\n",
    "print('p1 = {:.5f}'.format(result1))"
   ]
  },
  {
   "cell_type": "code",
   "execution_count": 10,
   "metadata": {},
   "outputs": [
    {
     "name": "stdout",
     "output_type": "stream",
     "text": [
      "p2 = 0.26\n"
     ]
    }
   ],
   "source": [
    "result2 = model.predict_proba({'PatientAge': '65+', 'MRIScanResult': 'Hemmorraghic Stroke'})[4].parameters[0]['Moderate']\n",
    "print('p2 = {:.2f}'.format(result2))"
   ]
  },
  {
   "cell_type": "code",
   "execution_count": 14,
   "metadata": {},
   "outputs": [
    {
     "name": "stdout",
     "output_type": "stream",
     "text": [
      "p3 = 0.1\n"
     ]
    }
   ],
   "source": [
    "result3 = model.predict_proba({'PatientAge': '65+', 'CTScanResult': 'Hemmorraghic Stroke', 'MRIScanResult': 'Ischemic Stroke'})[5].parameters[0]['Stroke Mimic']\n",
    "print('p3 = {:.1f}'.format(result3))"
   ]
  },
  {
   "cell_type": "code",
   "execution_count": 15,
   "metadata": {},
   "outputs": [
    {
     "name": "stdout",
     "output_type": "stream",
     "text": [
      "p4 = 0.5\n"
     ]
    }
   ],
   "source": [
    "result4 = model.predict_proba({'PatientAge': '0-30'})[3].parameters[0]['Not used']\n",
    "print('p4 = {:.1f}'.format(result4))"
   ]
  },
  {
   "cell_type": "code",
   "execution_count": null,
   "metadata": {},
   "outputs": [],
   "source": []
  }
 ],
 "metadata": {
  "kernelspec": {
   "display_name": "Python 3",
   "language": "python",
   "name": "python3"
  },
  "language_info": {
   "codemirror_mode": {
    "name": "ipython",
    "version": 3
   },
   "file_extension": ".py",
   "mimetype": "text/x-python",
   "name": "python",
   "nbconvert_exporter": "python",
   "pygments_lexer": "ipython3",
   "version": "3.7.4"
  }
 },
 "nbformat": 4,
 "nbformat_minor": 2
}
